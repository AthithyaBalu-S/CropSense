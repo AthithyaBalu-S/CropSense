{
  "cells": [
    {
      "cell_type": "code",
      "execution_count": null,
      "metadata": {
        "colab": {
          "base_uri": "https://localhost:8080/"
        },
        "id": "lMY-GIoTyxY1",
        "outputId": "6f2ec943-519f-41ff-b811-10e13fff0701"
      },
      "outputs": [
        {
          "output_type": "stream",
          "name": "stdout",
          "text": [
            "Ensemble R² Score: 0.8439915165439655\n"
          ]
        }
      ],
      "source": [
        "import pandas as pd\n",
        "from sklearn.model_selection import train_test_split\n",
        "from sklearn.ensemble import RandomForestRegressor\n",
        "from sklearn.ensemble import GradientBoostingRegressor\n",
        "from sklearn.ensemble import VotingRegressor\n",
        "from sklearn.metrics import r2_score\n",
        "from sklearn.preprocessing import LabelEncoder\n",
        "import xgboost as xgb\n",
        "\n",
        "data = pd.read_csv('/content/drive/MyDrive/crop_production.csv')\n",
        "data = data.dropna()\n",
        "data = data.drop(columns=['Crop_Year'])\n",
        "label_encoder = LabelEncoder()\n",
        "data['State_Name'] = label_encoder.fit_transform(data['State_Name'])\n",
        "data['District_Name'] = label_encoder.fit_transform(data['District_Name'])\n",
        "data['Crop'] = label_encoder.fit_transform(data['Crop'])\n",
        "data['Season'] = label_encoder.fit_transform(data['Season'])\n",
        "\n",
        "X = data.drop(columns=['Production'])\n",
        "y = data['Production']\n",
        "\n",
        "xtrain, xtest, ytrain, ytest = train_test_split(X, y, test_size=0.2, random_state=42)\n",
        "\n",
        "random_forest_model = RandomForestRegressor(n_estimators=100, random_state=42)\n",
        "xgb_model = xgb.XGBRegressor(objective='reg:squarederror', colsample_bytree=0.3, learning_rate=0.1,\n",
        "                              max_depth=5, alpha=10, n_estimators=100)\n",
        "gb_model = GradientBoostingRegressor(n_estimators=100, learning_rate=0.1, max_depth=3, random_state=42)\n",
        "\n",
        "ensemble_model = VotingRegressor([('random_forest', random_forest_model),('gradient',gb_model)])\n",
        "\n",
        "ensemble_model.fit(xtrain, ytrain)\n",
        "\n",
        "y_pred_ensemble = ensemble_model.predict(xtest)\n",
        "\n",
        "r2_ensemble = r2_score(ytest, y_pred_ensemble)\n",
        "print(\"Ensemble R² Score:\", r2_ensemble)"
      ]
    },
    {
      "cell_type": "code",
      "execution_count": null,
      "metadata": {
        "id": "WjpxvfrXzupS"
      },
      "outputs": [],
      "source": [
        "import pickle"
      ]
    },
    {
      "cell_type": "code",
      "source": [
        "filename = 'model.pkl'\n",
        "with open(filename, 'wb') as file:\n",
        "    pickle.dump(ensemble_model, file)\n"
      ],
      "metadata": {
        "id": "g82t88_JBweJ"
      },
      "execution_count": null,
      "outputs": []
    }
  ],
  "metadata": {
    "colab": {
      "provenance": []
    },
    "kernelspec": {
      "display_name": "Python 3",
      "name": "python3"
    },
    "language_info": {
      "name": "python"
    }
  },
  "nbformat": 4,
  "nbformat_minor": 0
}